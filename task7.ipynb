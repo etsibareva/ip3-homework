{
  "metadata": {
    "kernelspec": {
      "name": "python",
      "display_name": "Python (Pyodide)",
      "language": "python"
    },
    "language_info": {
      "codemirror_mode": {
        "name": "python",
        "version": 3
      },
      "file_extension": ".py",
      "mimetype": "text/x-python",
      "name": "python",
      "nbconvert_exporter": "python",
      "pygments_lexer": "ipython3",
      "version": "3.8"
    }
  },
  "nbformat_minor": 5,
  "nbformat": 4,
  "cells": [
    {
      "id": "2ff6eba3-5e5e-4e96-a321-07852caa3536",
      "cell_type": "code",
      "source": "import cv2\nimport numpy as np\nimport os\nimport struct",
      "metadata": {
        "trusted": true
      },
      "outputs": [],
      "execution_count": 1
    },
    {
      "id": "69fb6d9c-5101-4698-a448-f106ee8cbee4",
      "cell_type": "code",
      "source": "class ImagePreparator:\n    def read_image(filepath: str) -> np.ndarray:\n        image = None\n        if filepath.endswith('.bin'):\n            image = ImagePreparator.read_bin(filepath)\n        else:\n            image = cv2.imread(filepath, cv2.IMREAD_GRAYSCALE)\n        return image\n\n    def read_bin(filepath: str) -> np.ndarray:\n        with open(filepath, 'rb') as f:\n            height = struct.unpack('I', f.read(4))[0]\n            width = struct.unpack('I', f.read(4))[0]\n            data = f.read()\n            image = np.frombuffer(data, dtype=np.uint8).reshape(height, width)\n        return image\n\n    def save_bin(image: np.ndarray, filepath: str):\n        with open(filepath, 'wb') as f:\n            height, width = image.shape\n            f.write(struct.pack('II', height, width))\n            f.write(image.tobytes())\n\n    def get_file_size(filepath: str) -> int:\n        return os.path.getsize(filepath)",
      "metadata": {
        "trusted": true
      },
      "outputs": [],
      "execution_count": 2
    },
    {
      "id": "bcff4dfa-10de-4f8b-b5a3-4b2eb11071e7",
      "cell_type": "code",
      "source": "def haar_1d_vectorized(data: np.ndarray) -> np.ndarray:\n    data_f16 = data.astype(np.float16)\n    n = len(data_f16)\n\n    even = data_f16[::2] # каждый второй с 0\n    odd = data_f16[1::2] # каждый второй с 1\n\n    avg = (even + odd) * 0.5\n    diff = (even - odd) * 0.5\n\n    result = np.zeros(n, dtype=np.float16)\n    result[:n // 2] = avg  # первая половина - среднее\n    result[n // 2:] = diff # вторая половина - разности\n\n    return result\n\n\ndef haar_2d(image: np.ndarray) -> tuple:\n    image = ensure_even_size(image)\n    h, w = image.shape\n\n    temp = np.zeros_like(image, dtype=np.float16)\n    result = np.zeros_like(image, dtype=np.float16)\n\n    for i in range(h):\n        temp[i, :] = haar_1d_vectorized(image[i, :])\n\n    for j in range(w):\n        result[:, j] = haar_1d_vectorized(temp[:, j])\n\n    h2, w2 = h // 2, w // 2\n    LL = result[:h2, :w2]  # Низкие частоты\n    LH = result[:h2, w2:]  # Вертикальные детали\n    HL = result[h2:, :w2]  # Горизонтальные детали\n    HH = result[h2:, w2:]  # Диагональные детали\n\n    return LL, LH, HL, HH\n\ndef ensure_even_size(image: np.ndarray) -> np.ndarray:\n    h, w = image.shape\n    new_h = h if h % 2 == 0 else h - 1\n    new_w = w if w % 2 == 0 else w - 1\n    return image[:new_h, :new_w]",
      "metadata": {
        "trusted": true
      },
      "outputs": [],
      "execution_count": 3
    },
    {
      "id": "320484a7-fcf7-4d30-bd93-db15feb85cdf",
      "cell_type": "code",
      "source": "def quantize(source_array: np.ndarray, levels: int = 4):\n    step = (source_array.max() - source_array.min()) / levels\n\n    boundaries = [source_array.min() + i * step for i in range(levels + 1)]\n    averages = [boundaries[i] for i in range(levels)]\n\n    quantized = np.zeros_like(source_array)\n    for i in range(levels):\n        if i == levels - 1:\n            mask = (source_array >= boundaries[i]) & (source_array <= boundaries[i + 1])\n        else:\n            mask = (source_array >= boundaries[i]) & (source_array < boundaries[i + 1])\n        quantized[mask] = averages[i]\n\n    return quantized",
      "metadata": {
        "trusted": true
      },
      "outputs": [],
      "execution_count": 4
    },
    {
      "id": "9124189e-e58c-4243-ac79-166608f12e29",
      "cell_type": "code",
      "source": "def run_length_encode(matrix):\n    flattened = matrix.flatten()\n\n    encoded = []\n    current_value = flattened[0]\n    count = 1\n\n    for value in flattened[1:]:\n        if abs(value - current_value) < 10e-6:\n            count += 1\n        else:\n            encoded.append((current_value, count))\n            current_value = value\n            count = 1\n\n    encoded.append((current_value, count))\n    return encoded\n\n\ndef save_haar_compressed(LL, LH, HL, HH, filename):\n    with open(filename, 'wb') as f:\n        h, w = LL.shape\n        f.write(struct.pack('fI', h, w))\n        f.write(LL.astype(np.float16).tobytes()) # float16 для не потери вещественных значений\n\n        for component in [LH, HL, HH]:\n            unique_values, counts = np.unique(component, return_counts=True)\n            f.write(struct.pack('B', len(unique_values))) # информация, сколько пар последует в записи\n            for value, count in zip(unique_values, counts):\n                f.write(struct.pack('fI', value, count)) # запись пар",
      "metadata": {
        "trusted": true
      },
      "outputs": [],
      "execution_count": 5
    },
    {
      "id": "b3e52a5b-a6dd-4907-aeb5-86e1face0a2a",
      "cell_type": "code",
      "source": "'''\n Задача №1 : сохранение исходного изображения JPG -> BIN\n'''\nsource_image = ImagePreparator.read_image(\"sar_1_gray.jpg\")\n#source_image = ImagePreparator.read_image(\"cells.jpg\")\nImagePreparator.save_bin(source_image, \"original_image.bin\")\n\njpg_size = ImagePreparator.get_file_size(\"sar_1_gray.jpg\")\n#jpg_size = ImagePreparator.get_file_size(\"cells.jpg\")\nbin_size = ImagePreparator.get_file_size(\"original_image.bin\")\n\nprint(\"\\n\" + \"=\" * 50)\nprint(\"СКАЧИВАНИЕ ИСХОДНОГО ИЗОБРАЖЕНИЯ\")\nprint(\"=\" * 50)\nprint(f\"JPG (сжатый): {jpg_size} байт\")\nprint(f\"BIN (несжатый): {bin_size} байт\")",
      "metadata": {
        "trusted": true
      },
      "outputs": [
        {
          "name": "stdout",
          "output_type": "stream",
          "text": "\n==================================================\nСКАЧИВАНИЕ ИСХОДНОГО ИЗОБРАЖЕНИЯ\n==================================================\nJPG (сжатый): 71132 байт\nBIN (несжатый): 240008 байт\n"
        }
      ],
      "execution_count": 6
    },
    {
      "id": "3ecc5206-7465-4538-9efa-2e819c5b3828",
      "cell_type": "code",
      "source": "'''\n Задача №2 : вейвлет-преобразование Хаара\n'''\nLL, LH, HL, HH = haar_2d(source_image)\n\nprint(\"\\n\" + \"=\" * 50)\nprint(\"РЕЗУЛЬТАТ ПРЕОБРАЗОВАНИЯ ХААРА\")\nprint(\"=\" * 50)\nprint(f\"LL (приближение): {LL.shape}\")\nprint(f\"LH (вертикальные детали): {LH.shape}\")\nprint(f\"HL (горизонтальные детали): {HL.shape}\")\nprint(f\"HH (диагональные детали): {HH.shape}\")\n\nprint(\"\\n\" + \"=\" * 50)\nprint(\"ПРИМЕРЫ ДАННЫХ (первые 10x10 элементов):\")\nprint(\"=\" * 50)\n\nprint(\"LL (Низкие частоты - приближение):\")\nprint(LL[:10, :10].round(2))\n\nprint(\"\\nLH (Вертикальные детали):\")\nprint(LH[:10, :10].round(2))\n\nprint(\"\\nHL (Горизонтальные детали):\")\nprint(HL[:10, :10].round(2))\n\nprint(\"\\nHH (Диагональные детали):\")\nprint(HH[:10, :10].round(2))\n\nprint(\"\\n\" + \"=\" * 50)\nprint(\"ДИАПАЗОНЫ ЗНАЧЕНИЙ:\")\nprint(\"=\"*50)\nprint(f\"LL: [{LL.min():.2f}, {LL.max():.2f}]\")\nprint(f\"LH: [{LH.min():.2f}, {LH.max():.2f}]\")\nprint(f\"HL: [{HL.min():.2f}, {HL.max():.2f}]\")\nprint(f\"HH: [{HH.min():.2f}, {HH.max():.2f}]\")",
      "metadata": {
        "trusted": true
      },
      "outputs": [
        {
          "name": "stdout",
          "output_type": "stream",
          "text": "\n==================================================\nРЕЗУЛЬТАТ ПРЕОБРАЗОВАНИЯ ХААРА\n==================================================\nLL (приближение): (200, 300)\nLH (вертикальные детали): (200, 300)\nHL (горизонтальные детали): (200, 300)\nHH (диагональные детали): (200, 300)\n\n==================================================\nПРИМЕРЫ ДАННЫХ (первые 10x10 элементов):\n==================================================\nLL (Низкие частоты - приближение):\n[[ 55.    59.53  52.25  55.    64.75  85.75  63.    73.25  78.25  89.25]\n [ 57.    34.    43.25  62.75  57.53  70.75  73.25  79.25  76.5   70.75]\n [ 51.25  52.25  65.25  64.75  52.25  62.25  56.25  87.5   79.   100.94]\n [ 71.    65.25  56.75  67.    76.5   74.    66.5   61.    83.06  69.75]\n [ 52.    48.25  60.25  69.25  65.25  79.5   78.    76.25  60.47  62.  ]\n [ 58.75  47.53  45.53  42.25  54.    56.25  74.   133.8   90.25 118.75]\n [ 52.75  48.25  51.53  48.47  52.    78.75  89.75 100.5   94.5   86.25]\n [ 41.    43.53  53.75  52.75  67.75  70.    73.5   50.75  72.75  74.  ]\n [ 52.47  59.25  61.    66.25  57.    76.5   78.5   73.    70.   105.75]\n [ 71.25  48.75  79.25  85.75  77.25  96.5  116.5   93.25 101.25 116.5 ]]\n\nLH (Вертикальные детали):\n[[ -6.     5.    -2.75   2.5   11.25 -12.75  13.   -10.25   8.75  -6.25]\n [  4.5    4.5   -7.75  -1.25   4.5   -5.25  -3.75   5.75   0.5   -8.25]\n [  2.75  -4.25  -0.75  -0.25  -0.25   1.75  -9.25   2.    -8.   -10.  ]\n [  4.    -0.75   4.25  -7.5   11.5   -5.     2.5    5.    16.5   -4.75]\n [ -1.     1.75  -6.75   2.25  -8.25   2.5   -3.     4.25  20.5    3.  ]\n [ -0.25   4.5   -3.     4.25   3.    -4.25  -7.   -18.25  10.25  -1.75]\n [ -1.25   2.75  -3.5    4.5   -1.5   -9.75   2.75  -7.5   -9.    21.23]\n [ -2.5    0.5   -4.75   4.25  -3.75   2.    -2.    10.25 -14.75  19.  ]\n [ -3.5    0.75  -2.     0.25   7.5  -10.     5.    -4.     8.     1.25]\n [  6.75   0.25 -10.75   5.25  13.75  -2.5    2.5  -25.77   6.75  -1.  ]]\n\nHL (Горизонтальные детали):\n[[-20.5    4.     8.75  -2.   -10.75   6.75   8.5   11.75  26.23   1.25]\n [ 12.5    0.    -7.25   1.25  -7.5   -9.25  -1.75   6.75 -14.5   -0.25]\n [ -0.25   0.75   1.25  -6.25   8.25  12.25   6.75  -8.5   -2.5   -2.  ]\n [-15.   -12.75  -0.25   8.     4.5   -7.5  -18.5   -4.    12.     8.25]\n [ -8.    -7.75  -6.25  -5.25   2.75  -5.    -2.5    3.25   0.     4.5 ]\n [ -0.25   2.     6.5   10.25   2.5    4.25  -1.   -12.75  -2.25  -2.75]\n [ 10.75   5.75   0.    -3.5   -3.     1.25   1.75   9.     4.5   -0.25]\n [-11.    -9.5   -7.25  -4.75  -2.75  -8.     0.    25.23 -12.25   4.  ]\n [  1.5    2.25 -16.5  -17.75  -7.5   -6.5  -16.   -18.5  -13.   -28.77]\n [-19.75 -11.25  -5.75 -10.25  -7.75  -4.     2.     9.75 -13.25  18.  ]]\n\nHH (Диагональные детали):\n[[-5.5  -4.5   1.75  2.5  -2.25 -4.75  2.5  -3.75  6.75  7.75]\n [ 1.    4.5  -1.25 -1.75  3.5  -3.25  0.25 -3.75  0.5  -3.25]\n [-0.75  0.25  0.25  2.75 -2.25  0.75  2.25  4.   -2.5  -1.  ]\n [ 0.   -1.75 -3.75 -0.5  -0.5   6.5  -2.5  -3.   -3.5   2.75]\n [ 0.   -0.25 -0.25 -0.25  0.25  3.   -3.5   1.25 -3.    1.5 ]\n [-0.25 -1.   -1.   -0.75 -2.5   1.75  1.    4.25  5.75 -3.25]\n [ 0.75  1.25  1.    0.5   0.5  -2.25  0.75 -4.    6.   -1.25]\n [-0.5  -0.5  -0.75 -0.25  2.75 -1.   -3.5  -7.25 -4.75 -2.  ]\n [ 0.5   0.75  6.5  -4.75 -2.   -1.    2.5   6.5   8.   -2.25]\n [-5.25  1.25 -3.75  5.25 -1.25 -3.   -1.    1.75 -8.75  2.5 ]]\n\n==================================================\nДИАПАЗОНЫ ЗНАЧЕНИЙ:\n==================================================\nLL: [0.00, 254.50]\nLH: [-86.00, 97.50]\nHL: [-90.50, 89.50]\nHH: [-67.00, 53.25]\n"
        }
      ],
      "execution_count": 7
    },
    {
      "id": "2963c0f1-bb48-49a4-b986-bd4a2c23e212",
      "cell_type": "code",
      "source": "'''\n Задача №3 : квантование с количеством квантов = 4\n'''\nLH_quantized = quantize(LH)\nHL_quantized = quantize(HL)\nHH_quantized = quantize(HH)",
      "metadata": {
        "trusted": true
      },
      "outputs": [],
      "execution_count": 8
    },
    {
      "id": "da75d9c9-e068-4da1-9b37-30520ae8a5dd",
      "cell_type": "code",
      "source": "'''\n Задача №4 : сохранение результирующего изображения \n'''\nsave_haar_compressed(LL, LH_quantized, HL_quantized, HH_quantized, \"compressed_haar.bin\")",
      "metadata": {
        "trusted": true
      },
      "outputs": [],
      "execution_count": 9
    },
    {
      "id": "94ebea5a-366d-416a-b087-3d1255d2033d",
      "cell_type": "code",
      "source": "'''\n Итог : сравнение исходного и сжатого файлов\n'''\nprint(\"\\n\" + \"=\"*50)\nprint(\"СРАВНЕНИЕ ФАЙЛОВ:\")\nprint(\"=\"*50)\n\ncompressed_size = ImagePreparator.get_file_size(\"compressed_haar.bin\")\nsize_difference = bin_size - compressed_size\n\nprint(f\"Исходный BIN:  {bin_size} байт\")\nprint(f\"Сжатый Haar:   {compressed_size} байт\")\nprint(f\"Разница:       {size_difference} байт\")\n\nif size_difference > 0:\n    print(f\"Экономия:      {size_difference} байт\")\n    print(f\"Сжатие:      {(size_difference/bin_size)*100:>11.1f}%\")\n\nprint(f\"\\nРазмер compressed_haar.bin составляет {compressed_size/bin_size*100:.1f}% от original_image.bin\")",
      "metadata": {
        "trusted": true
      },
      "outputs": [
        {
          "name": "stdout",
          "output_type": "stream",
          "text": "\n==================================================\nСРАВНЕНИЕ ФАЙЛОВ:\n==================================================\nИсходный BIN:  240008 байт\nСжатый Haar:   120107 байт\nРазница:       119901 байт\nЭкономия:      119901 байт\nСжатие:             50.0%\n\nРазмер compressed_haar.bin составляет 50.0% от original_image.bin\n"
        }
      ],
      "execution_count": 10
    },
    {
      "id": "ddda3e25-625f-4cf3-bb97-2b29d0335449",
      "cell_type": "code",
      "source": "",
      "metadata": {
        "trusted": true
      },
      "outputs": [],
      "execution_count": null
    }
  ]
}